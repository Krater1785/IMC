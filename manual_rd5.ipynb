{
 "cells": [
  {
   "cell_type": "code",
   "execution_count": 1,
   "id": "1f0aafac",
   "metadata": {},
   "outputs": [],
   "source": [
    "from textblob import TextBlob"
   ]
  },
  {
   "cell_type": "code",
   "execution_count": 2,
   "id": "1068a821",
   "metadata": {},
   "outputs": [
    {
     "data": {
      "text/plain": [
       "Sentiment(polarity=0.1679383116883117, subjectivity=0.44788961038961034)"
      ]
     },
     "execution_count": 2,
     "metadata": {},
     "output_type": "execute_result"
    }
   ],
   "source": [
    "testinomial = TextBlob('''Harvesting the power of the sun has become fully integrated into our daily lives, with solar panels on almost every single house. “But that doesn’tmean you can keep all that energy to\n",
    "        yourself,” says Benny the Bull.\n",
    "        Unpopular as it may seem, the\n",
    "        proposed 8.4% tax increase on solar\n",
    "        panels will take effect tomorrow\n",
    "        morning. This new tax law triples the\n",
    "        cost of owning solar panels and\n",
    "        applies to every single panel you own.\n",
    "        The legislation casts a dark shadow\n",
    "        over what was otherwise a bright and\n",
    "        promising development.''')\n",
    "testinomial.sentiment"
   ]
  },
  {
   "cell_type": "code",
   "execution_count": 3,
   "id": "af2d5bea",
   "metadata": {},
   "outputs": [
    {
     "data": {
      "text/plain": [
       "Sentiment(polarity=0.09266666666666666, subjectivity=0.2373333333333333)"
      ]
     },
     "execution_count": 3,
     "metadata": {},
     "output_type": "execute_result"
    }
   ],
   "source": [
    "testinomial = TextBlob('''The first-ever Moonshine Space\n",
    "        Expedition, carrying several hundred\n",
    "        bottles of Moonshine, returned last\n",
    "        week. CosmicClean CEO Mr. Gleam\n",
    "        was quick to declare the mission a\n",
    "        success, but scientists at the Lunar\n",
    "        Observatory remain unconvinced.\n",
    "        “Cleaning the surface of the moon\n",
    "        with Moonshine didn't actually make\n",
    "        the moon shine brighter,” said a\n",
    "        spokesperson for the Lunar\n",
    "        Observatory. Mr. Gleam made it no\n",
    "        secret that he’s already planning his.\n",
    "        next launch. When asked for a\n",
    "        reaction, he repeated his mission\n",
    "        statement with characteristic\n",
    "        enthusiasm: “The moon will be\n",
    "        brighter than ever, that’s a given. |\n",
    "        have high hopes this next expedition\n",
    "        will blow everyone’s mind. To the\n",
    "        moon!''')\n",
    "testinomial.sentiment"
   ]
  }
 ],
 "metadata": {
  "kernelspec": {
   "display_name": "Python 3",
   "language": "python",
   "name": "python3"
  },
  "language_info": {
   "codemirror_mode": {
    "name": "ipython",
    "version": 3
   },
   "file_extension": ".py",
   "mimetype": "text/x-python",
   "name": "python",
   "nbconvert_exporter": "python",
   "pygments_lexer": "ipython3",
   "version": "3.11.9"
  }
 },
 "nbformat": 4,
 "nbformat_minor": 5
}
